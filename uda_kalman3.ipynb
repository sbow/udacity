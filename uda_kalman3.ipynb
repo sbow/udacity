{
 "cells": [
  {
   "cell_type": "markdown",
   "metadata": {},
   "source": [
    "$$\\large Kalman Filter - 2D Python3$$\n",
    "$$\\normalsize Shaun Bowman - 2017/10/10$$"
   ]
  },
  {
   "cell_type": "code",
   "execution_count": 12,
   "metadata": {},
   "outputs": [
    {
     "name": "stdout",
     "output_type": "stream",
     "text": [
      "### 4-dimensional example ###\n",
      "x= \n",
      "[9.999340731787717]\n",
      "[0.001318536424568617]\n",
      "[9.998901219646193]\n",
      "[-19.997802439292386]\n",
      " \n",
      "P= \n",
      "[0.03955609273706198, 0.0, 0.06592682122843721, 0.0]\n",
      "[0.0, 0.03955609273706198, 0.0, 0.06592682122843721]\n",
      "[0.06592682122843718, 0.0, 0.10987803538073201, 0.0]\n",
      "[0.0, 0.06592682122843718, 0.0, 0.10987803538073201]\n",
      " \n"
     ]
    }
   ],
   "source": [
    "# Kalman Filter Quiz 6: Programing Excercise\n",
    "# Now 2 measurement dimensions x,y; and 4 dimensional state vector\n",
    "# x,y,xdot,ydot\n",
    "# Note: in this case we predict first, then update with measurement\n",
    "from uda_matrix3 import matrix\n",
    "########################################\n",
    "\n",
    "def filter(x, P):\n",
    "    for n in range(len(measurements)):\n",
    "\n",
    "        # prediction\n",
    "        x = (F * x) + u\n",
    "        P = F * P * F.transpose()\n",
    "\n",
    "        # measurement update\n",
    "        Z = matrix([measurements[n]])\n",
    "        y = Z.transpose() - (H * x)\n",
    "        S = H * P * H.transpose() + R\n",
    "        K = P * H.transpose() * S.inverse()\n",
    "        x = x + (K * y)\n",
    "        P = (I - (K * H)) * P\n",
    "\n",
    "    print( 'x= ')\n",
    "    x.show()\n",
    "    print('P= ')\n",
    "    P.show()\n",
    "\n",
    "########################################\n",
    "\n",
    "print (\"### 4-dimensional example ###\")\n",
    "\n",
    "measurements = [[5., 10.], [6., 8.], [7., 6.], [8., 4.], [9., 2.], [10., 0.]]\n",
    "initial_xy = [4., 12.]\n",
    "\n",
    "# measurements = [[1., 4.], [6., 0.], [11., -4.], [16., -8.]]\n",
    "# initial_xy = [-4., 8.]\n",
    "\n",
    "# measurements = [[1., 17.], [1., 15.], [1., 13.], [1., 11.]]\n",
    "# initial_xy = [1., 19.]\n",
    "\n",
    "dt = 0.1\n",
    "\n",
    "x = matrix([[initial_xy[0]], [initial_xy[1]], [0.], [0.]]) # initial state (location and velocity)\n",
    "u = matrix([[0.], [0.], [0.], [0.]]) # external motion\n",
    "\n",
    "#### DO NOT MODIFY ANYTHING ABOVE HERE ####\n",
    "#### fill this in, remember to use the matrix() function!: ####\n",
    "# Note: outputs xdot & ydot need to be multiplied by dt to get into physical\n",
    "# units ie: in this example they are 10 times larger than physical (dt=0.1)\n",
    "P = matrix([[0., 0.,    0.,    0.],\n",
    "            [0., 0.,    0.,    0.],\n",
    "            [0., 0., 1000.,    0.],\n",
    "            [0., 0.,    0., 1000.]]) # initial uncertainty: 0 for positions x and y, 1000 for the two velocities\n",
    "                                     # note: do not put 1000 into x,y rows 0,1\n",
    "F = matrix([[1., 0., dt, 0.],\n",
    "            [0., 1., 0., dt],\n",
    "            [0., 0., 1., 0.],\n",
    "            [0., 0., 0., 1.]])  # next state function: generalize the 2d version to 4d\n",
    "H = matrix([[1., 0., 0., 0.,],\n",
    "            [0., 1., 0., 0.]])  # measurement function: reflect the fact that we observe x and y but not the two velocit\n",
    "                                # Note: 2x4, multiplied by x & subtracted from\n",
    "                                # Z which is 2x1 as in the equation below:\n",
    "                                # y = Z.transpose() - (H * x)\n",
    "R = matrix([[.1, 0.],[0., .1]]) # measurement uncertainty: use 2x2 matrix with 0.1 as main diagonal\n",
    "I = matrix([[]])\n",
    "I.identity(4)   # 4d identity matrix\n",
    "\n",
    "###### DO NOT MODIFY ANYTHING HERE #######\n",
    "\n",
    "filter(x, P)"
   ]
  },
  {
   "cell_type": "markdown",
   "metadata": {},
   "source": [
    "$$c = \\sqrt{a^2 + b^2}$$"
   ]
  },
  {
   "cell_type": "code",
   "execution_count": null,
   "metadata": {
    "collapsed": true
   },
   "outputs": [],
   "source": []
  }
 ],
 "metadata": {
  "kernelspec": {
   "display_name": "Python 3",
   "language": "python",
   "name": "python3"
  },
  "language_info": {
   "codemirror_mode": {
    "name": "ipython",
    "version": 3
   },
   "file_extension": ".py",
   "mimetype": "text/x-python",
   "name": "python",
   "nbconvert_exporter": "python",
   "pygments_lexer": "ipython3",
   "version": "3.6.1"
  }
 },
 "nbformat": 4,
 "nbformat_minor": 2
}
